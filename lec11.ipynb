{
 "cells": [
  {
   "cell_type": "markdown",
   "id": "2fd5a29e",
   "metadata": {},
   "source": [
    "# Lecture 11 Reading Files"
   ]
  },
  {
   "cell_type": "markdown",
   "id": "5b1d7921",
   "metadata": {},
   "source": [
    "### Reading Text File "
   ]
  },
  {
   "cell_type": "code",
   "execution_count": 27,
   "id": "32d36845",
   "metadata": {},
   "outputs": [
    {
     "name": "stdout",
     "output_type": "stream",
     "text": [
      "Recognizing the nation's history of racism and violence perpetrated against Black communities and communities of color, town halls for the JMU community are scheduled on June 3, 4 and 11 to better understand and address racial injustice and inequities.\n",
      "\n",
      "“We know this grief and pain extends throughout our community, and want you to know that on behalf of the institution and as an individual, I stand with you,” said JMU President Jonathan R. Alger. “We will do everything we can to help create a better tomorrow – one in which no individual has to live in fear that they may someday become a target of hate.” \n",
      "\n",
      "The town halls will allow for students, faculty and staff to share personal experiences and suggestions for ways in which colleagues and decision-makers can make Madison a more welcoming and inclusive place for under-represented students, faculty, and staff — now and in the future. Details are as follows. \n",
      "\n",
      "JMU and Community Town Hall\n",
      "6/3 @ 7 p.m.\n",
      "Hosted by: The James Madison Center for Civic Engagement\n",
      "https://bit.ly/JMUEndRacism \n",
      "\n",
      "\n",
      "Faculty and Staff Town Hall\n",
      "6/4 @ 4 p.m.\n",
      "Hosted by: Heather Coltman, Provost and Tim Miller, Vice President for Student Affairs\n",
      "https://bit.ly/JMU-FacultyStaff-Town-Hall\n",
      "\n",
      "\n",
      "Student Town Hall\n",
      "6/11 @ 4 p.m.\n",
      "Hosted by: Heather Coltman, Provost and Tim Miller, Vice President for Student Affairs\n",
      "https://bit.ly/JMU-Student-Town-Hall  \n",
      "\n",
      "# # #\n",
      "\n",
      "Back to Top\n",
      "\n",
      "Published: Tuesday, June 2, 2020\n",
      "\n",
      "Last Updated: Tuesday, June 2, 2020\n"
     ]
    }
   ],
   "source": [
    "jmu_news = open('jmu_news.txt', 'r')\n",
    "\n",
    "news_content = jmu_news.read()\n",
    "\n",
    "print(news_content)"
   ]
  },
  {
   "cell_type": "markdown",
   "id": "314d51fa",
   "metadata": {},
   "source": [
    "### Best was to open a file using with/as statement "
   ]
  },
  {
   "cell_type": "code",
   "execution_count": 28,
   "id": "88aec48d",
   "metadata": {},
   "outputs": [
    {
     "name": "stdout",
     "output_type": "stream",
     "text": [
      "Recognizing the nation's history of racism and violence perpetrated against Black communities and communities of color, town halls for the JMU community are scheduled on June 3, 4 and 11 to better understand and address racial injustice and inequities.\n",
      "\n",
      "“We know this grief and pain extends throughout our community, and want you to know that on behalf of the institution and as an individual, I stand with you,” said JMU President Jonathan R. Alger. “We will do everything we can to help create a better tomorrow – one in which no individual has to live in fear that they may someday become a target of hate.” \n",
      "\n",
      "The town halls will allow for students, faculty and staff to share personal experiences and suggestions for ways in which colleagues and decision-makers can make Madison a more welcoming and inclusive place for under-represented students, faculty, and staff — now and in the future. Details are as follows. \n",
      "\n",
      "JMU and Community Town Hall\n",
      "6/3 @ 7 p.m.\n",
      "Hosted by: The James Madison Center for Civic Engagement\n",
      "https://bit.ly/JMUEndRacism \n",
      "\n",
      "\n",
      "Faculty and Staff Town Hall\n",
      "6/4 @ 4 p.m.\n",
      "Hosted by: Heather Coltman, Provost and Tim Miller, Vice President for Student Affairs\n",
      "https://bit.ly/JMU-FacultyStaff-Town-Hall\n",
      "\n",
      "\n",
      "Student Town Hall\n",
      "6/11 @ 4 p.m.\n",
      "Hosted by: Heather Coltman, Provost and Tim Miller, Vice President for Student Affairs\n",
      "https://bit.ly/JMU-Student-Town-Hall  \n",
      "\n",
      "# # #\n",
      "\n",
      "Back to Top\n",
      "\n",
      "Published: Tuesday, June 2, 2020\n",
      "\n",
      "Last Updated: Tuesday, June 2, 2020\n"
     ]
    }
   ],
   "source": [
    "with open('jmu_news.txt','r') as jmu_news: \n",
    "    print(jmu_news.read())"
   ]
  },
  {
   "cell_type": "markdown",
   "id": "b7ad0315",
   "metadata": {},
   "source": [
    "### Counter\n",
    "    ❑ Counter keeps track of how many times it appears in a \n",
    "    list or string, and is defined in the collections module\n",
    "    Counter(str or list )\n",
    "    ❑Return a dictionary where elements are stored as \n",
    "    dictionary keys and their counts are stored as values. \n",
    "    ❑most_common(n): Return a list of the top n most \n",
    "    common elements and their counts.\n"
   ]
  },
  {
   "cell_type": "code",
   "execution_count": 29,
   "id": "cd452661",
   "metadata": {},
   "outputs": [
    {
     "name": "stdout",
     "output_type": "stream",
     "text": [
      "Counter({'a': 2, 'b': 1, 'c': 1})\n"
     ]
    }
   ],
   "source": [
    "from collections import Counter\n",
    "\n",
    "demo_list = ['a','a','b','c']\n",
    "\n",
    "result = Counter(demo_list)\n",
    "\n",
    "print(result)"
   ]
  },
  {
   "cell_type": "code",
   "execution_count": 30,
   "id": "7839d437",
   "metadata": {},
   "outputs": [
    {
     "name": "stdout",
     "output_type": "stream",
     "text": [
      "[('a', 2)]\n",
      "a 2\n"
     ]
    }
   ],
   "source": [
    "from collections import Counter\n",
    "\n",
    "demo_list = ['a','a','b','c']\n",
    "\n",
    "result = Counter(demo_list)\n",
    "\n",
    "print(result.most_common(1))\n",
    "#or\n",
    "for word, value in result.most_common(1):\n",
    "    print (word,value)"
   ]
  },
  {
   "cell_type": "markdown",
   "id": "97afe7a6",
   "metadata": {},
   "source": [
    "### List Comprehensions\n",
    "    ❑It takes an iterable object and passes each item to do something to create new values for the new list.\n",
    "    new_list = [ do_something_on each_item for each_item in an_iterable_object ]"
   ]
  },
  {
   "cell_type": "code",
   "execution_count": 31,
   "id": "498d2686",
   "metadata": {},
   "outputs": [
    {
     "name": "stdout",
     "output_type": "stream",
     "text": [
      "[2, 3, 4, 5]\n"
     ]
    }
   ],
   "source": [
    "num_list = [1,2,3,4]\n",
    "new_list = [i+1 for i in num_list]\n",
    "print (new_list)"
   ]
  },
  {
   "cell_type": "markdown",
   "id": "f83dad19",
   "metadata": {},
   "source": [
    "### string.format()\n",
    "    ❑format strings contain “replacement fields” surrounded by curly braces {}.\n",
    "    ❑Anything outside the braces is considered literal text, which is copied unchanged to the output.\n",
    "    ❑You can specify the order of the replacement fields\n",
    "    ❑Inside the placeholders you can add a formatting type to format the result\n"
   ]
  },
  {
   "cell_type": "code",
   "execution_count": 32,
   "id": "86cf0aa6",
   "metadata": {},
   "outputs": [
    {
     "name": "stdout",
     "output_type": "stream",
     "text": [
      " Tom's income is $6000.\n"
     ]
    }
   ],
   "source": [
    "print(\" {}'s income is ${}.\".format('Tom',6000))"
   ]
  },
  {
   "cell_type": "code",
   "execution_count": 33,
   "id": "182dbada",
   "metadata": {},
   "outputs": [
    {
     "name": "stdout",
     "output_type": "stream",
     "text": [
      " Tom's income is $6000.\n"
     ]
    }
   ],
   "source": [
    "print(\" {1}'s income is ${0}.\".format(6000,'Tom'))"
   ]
  },
  {
   "cell_type": "code",
   "execution_count": 34,
   "id": "fb8baba5",
   "metadata": {},
   "outputs": [
    {
     "name": "stdout",
     "output_type": "stream",
     "text": [
      " Tom's income is $600,000,000.\n"
     ]
    }
   ],
   "source": [
    "print(\" {}'s income is ${:,}.\".format('Tom',600000000))"
   ]
  },
  {
   "cell_type": "markdown",
   "id": "d30ef9c4",
   "metadata": {},
   "source": [
    "# Examples"
   ]
  },
  {
   "cell_type": "markdown",
   "id": "fffd7d35",
   "metadata": {},
   "source": [
    "## Ex1: Find the Top 10 Most Common Words (Counter)"
   ]
  },
  {
   "cell_type": "code",
   "execution_count": 35,
   "id": "6ef28e46",
   "metadata": {},
   "outputs": [
    {
     "name": "stdout",
     "output_type": "stream",
     "text": [
      "and 18\n",
      "for 7\n",
      "to 6\n",
      "the 4\n",
      "of 4\n",
      "in 4\n",
      "JMU 3\n",
      "June 3\n",
      "4 3\n",
      "President 3\n"
     ]
    }
   ],
   "source": [
    "with open('jmu_news.txt', 'r') as jmu_news:\n",
    "    news_content = jmu_news.read()\n",
    "    word_list = news_content.split()\n",
    "    count_result = Counter(word_list)\n",
    "    for word, count in count_result.most_common(10):\n",
    "        print(word,count)"
   ]
  },
  {
   "cell_type": "markdown",
   "id": "3049be10",
   "metadata": {},
   "source": [
    "## Ex2: Convert all the Words to Lower Cases (List Comprehension)\n"
   ]
  },
  {
   "cell_type": "code",
   "execution_count": 36,
   "id": "f03ca8d0",
   "metadata": {},
   "outputs": [
    {
     "name": "stdout",
     "output_type": "stream",
     "text": [
      "Counter({'and': 18, 'for': 7, 'the': 6, 'to': 6, 'town': 5, 'of': 4, 'in': 4, 'jmu': 3, 'june': 3, '4': 3, 'president': 3, 'a': 3, 'staff': 3, 'hall': 3, '@': 3, 'p.m.': 3, 'hosted': 3, 'by:': 3, 'student': 3, '#': 3, 'communities': 2, 'halls': 2, 'community': 2, 'are': 2, 'on': 2, 'better': 2, '“we': 2, 'know': 2, 'that': 2, 'as': 2, 'will': 2, 'can': 2, 'which': 2, 'students,': 2, 'faculty': 2, 'madison': 2, 'heather': 2, 'coltman,': 2, 'provost': 2, 'tim': 2, 'miller,': 2, 'vice': 2, 'affairs': 2, 'tuesday,': 2, '2,': 2, '2020': 2, 'recognizing': 1, \"nation's\": 1, 'history': 1, 'racism': 1, 'violence': 1, 'perpetrated': 1, 'against': 1, 'black': 1, 'color,': 1, 'scheduled': 1, '3,': 1, '11': 1, 'understand': 1, 'address': 1, 'racial': 1, 'injustice': 1, 'inequities.': 1, 'this': 1, 'grief': 1, 'pain': 1, 'extends': 1, 'throughout': 1, 'our': 1, 'community,': 1, 'want': 1, 'you': 1, 'behalf': 1, 'institution': 1, 'an': 1, 'individual,': 1, 'i': 1, 'stand': 1, 'with': 1, 'you,”': 1, 'said': 1, 'jonathan': 1, 'r.': 1, 'alger.': 1, 'do': 1, 'everything': 1, 'we': 1, 'help': 1, 'create': 1, 'tomorrow': 1, '–': 1, 'one': 1, 'no': 1, 'individual': 1, 'has': 1, 'live': 1, 'fear': 1, 'they': 1, 'may': 1, 'someday': 1, 'become': 1, 'target': 1, 'hate.”': 1, 'allow': 1, 'share': 1, 'personal': 1, 'experiences': 1, 'suggestions': 1, 'ways': 1, 'colleagues': 1, 'decision-makers': 1, 'make': 1, 'more': 1, 'welcoming': 1, 'inclusive': 1, 'place': 1, 'under-represented': 1, 'faculty,': 1, '—': 1, 'now': 1, 'future.': 1, 'details': 1, 'follows.': 1, '6/3': 1, '7': 1, 'james': 1, 'center': 1, 'civic': 1, 'engagement': 1, 'https://bit.ly/jmuendracism': 1, '6/4': 1, 'https://bit.ly/jmu-facultystaff-town-hall': 1, '6/11': 1, 'https://bit.ly/jmu-student-town-hall': 1, 'back': 1, 'top': 1, 'published:': 1, 'last': 1, 'updated:': 1})\n"
     ]
    }
   ],
   "source": [
    "with open('jmu_news.txt', 'r') as jmu_news:\n",
    "    news_content = jmu_news.read()\n",
    "    word_list = news_content.split()\n",
    "    low_case_list = [word.lower() for word in word_list]\n",
    "    count_result = Counter(low_case_list)\n",
    "    print(count_result)"
   ]
  },
  {
   "cell_type": "markdown",
   "id": "3c1baba5",
   "metadata": {},
   "source": [
    "### Import JSON Files"
   ]
  },
  {
   "cell_type": "code",
   "execution_count": 1,
   "id": "5f970142",
   "metadata": {},
   "outputs": [],
   "source": [
    "import json\n",
    "\n",
    "from pprint import pprint"
   ]
  },
  {
   "cell_type": "code",
   "execution_count": 6,
   "id": "248a0a28",
   "metadata": {},
   "outputs": [
    {
     "name": "stdout",
     "output_type": "stream",
     "text": [
      "{'id': 'http://www.jmu.edu',\n",
      " 'og_object': {'description': 'Welcome to the James Madison University website',\n",
      "               'id': '704684182917256',\n",
      "               'title': 'JMU Homepage',\n",
      "               'type': 'website',\n",
      "               'updated_time': '2018-02-10T03:45:42+0000'},\n",
      " 'share': {'comment_count': 0, 'share_count': 7657}}\n"
     ]
    }
   ],
   "source": [
    "with open ('demo.json','r') as demo_json:\n",
    "    demo_dict = json.load(demo_json)\n",
    "    pprint(demo_dict)"
   ]
  },
  {
   "cell_type": "code",
   "execution_count": 5,
   "id": "6d94639c",
   "metadata": {},
   "outputs": [
    {
     "name": "stdout",
     "output_type": "stream",
     "text": [
      "'http://www.jmu.edu'\n"
     ]
    }
   ],
   "source": [
    "with open ('demo.json','r') as demo_json:\n",
    "    demo_dict = json.load(demo_json)\n",
    "    pprint(demo_dict['id'])"
   ]
  },
  {
   "cell_type": "markdown",
   "id": "0a9b17d5",
   "metadata": {},
   "source": [
    "### Load Data from Website"
   ]
  },
  {
   "cell_type": "code",
   "execution_count": 7,
   "id": "d366e492",
   "metadata": {},
   "outputs": [],
   "source": [
    "import urllib.request"
   ]
  },
  {
   "cell_type": "code",
   "execution_count": 8,
   "id": "980bfdcc",
   "metadata": {},
   "outputs": [],
   "source": [
    "url = 'http://www.jmu.edu' #define the url of website\n",
    "\n",
    "response = urllib.request.urlopen(url) #pass the webpage contents to the response variable\n",
    "\n",
    "web_content = response.read() #laod the contents from the response\n",
    "\n",
    "print(web_content.decode('utf-8')) #decode the contents in the output"
   ]
  },
  {
   "cell_type": "code",
   "execution_count": null,
   "id": "564da7b2",
   "metadata": {},
   "outputs": [],
   "source": []
  }
 ],
 "metadata": {
  "kernelspec": {
   "display_name": "conda_python3",
   "language": "python",
   "name": "conda_python3"
  },
  "language_info": {
   "codemirror_mode": {
    "name": "ipython",
    "version": 3
   },
   "file_extension": ".py",
   "mimetype": "text/x-python",
   "name": "python",
   "nbconvert_exporter": "python",
   "pygments_lexer": "ipython3",
   "version": "3.10.8"
  }
 },
 "nbformat": 4,
 "nbformat_minor": 5
}
